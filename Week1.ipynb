{
  "nbformat": 4,
  "nbformat_minor": 0,
  "metadata": {
    "colab": {
      "provenance": [],
      "gpuType": "T4",
      "authorship_tag": "ABX9TyNtlqU2u0zDnsT13FDNiU2Z",
      "include_colab_link": true
    },
    "kernelspec": {
      "name": "python3",
      "display_name": "Python 3"
    },
    "language_info": {
      "name": "python"
    },
    "accelerator": "GPU"
  },
  "cells": [
    {
      "cell_type": "markdown",
      "metadata": {
        "id": "view-in-github",
        "colab_type": "text"
      },
      "source": [
        "<a href=\"https://colab.research.google.com/github/vice2city/generative_model_study/blob/main/Week1.ipynb\" target=\"_parent\"><img src=\"https://colab.research.google.com/assets/colab-badge.svg\" alt=\"Open In Colab\"/></a>"
      ]
    },
    {
      "cell_type": "code",
      "execution_count": null,
      "metadata": {
        "id": "QM_q9jgWCHIT"
      },
      "outputs": [],
      "source": [
        "import torch\n",
        "import torch.nn as nn\n",
        "import torch.utils.data as data\n",
        "import torchvision"
      ]
    },
    {
      "cell_type": "code",
      "source": [
        "torch.manual_seed(1)\n",
        "\n",
        "EPOCH = 1\n",
        "BATCH_SIZE = 50\n",
        "LR = 0.001\n",
        "DOWNLOAD_MNIST = True"
      ],
      "metadata": {
        "id": "gtWHTt6KDKhJ"
      },
      "execution_count": null,
      "outputs": []
    },
    {
      "cell_type": "code",
      "source": [
        "train_data = torchvision.datasets.MNIST(\n",
        "    root='./mnist/',\n",
        "    train=True,\n",
        "    transform=torchvision.transforms.ToTensor(),\n",
        "    download=DOWNLOAD_MNIST\n",
        ")\n",
        "\n",
        "print(train_data.data.size())\n",
        "print(train_data.targets.size())\n"
      ],
      "metadata": {
        "colab": {
          "base_uri": "https://localhost:8080/"
        },
        "id": "y3VJBDIhDTm9",
        "outputId": "a9022bf0-596a-4eb7-9271-00a85fff21cf"
      },
      "execution_count": null,
      "outputs": [
        {
          "output_type": "stream",
          "name": "stdout",
          "text": [
            "torch.Size([60000, 28, 28])\n",
            "torch.Size([60000])\n"
          ]
        }
      ]
    },
    {
      "cell_type": "code",
      "source": [
        "test_data = torchvision.datasets.MNIST(root='./mnist/', train=False)\n",
        "train_loader = data.DataLoader(dataset=train_data, batch_size=BATCH_SIZE, shuffle=True)\n",
        "test_x = torch.unsqueeze(test_data.data, dim=1).type(torch.float32)[:2000]/255.\n",
        "test_y = test_data.targets[:2000]\n",
        "\n",
        "class CNN(nn.Module):\n",
        "    def __init__(self):\n",
        "        super(CNN, self).__init__()\n",
        "        self.conv1 = nn.Sequential(\n",
        "            nn.Conv2d(\n",
        "                in_channels=1,\n",
        "                out_channels=16,\n",
        "                kernel_size=5,\n",
        "                stride=1,\n",
        "                padding=2\n",
        "            ),\n",
        "            nn.ReLU(),\n",
        "            nn.MaxPool2d(2)\n",
        "        )\n",
        "        self.conv2 = nn.Sequential(\n",
        "            nn.Conv2d(16, 32, 5, 1, 2),\n",
        "            nn.ReLU(),\n",
        "            nn.MaxPool2d(2)\n",
        "        )\n",
        "        self.out = nn.Linear(32 * 7 * 7, 10)\n",
        "    def forward(self, x):\n",
        "        x = self.conv1(x)\n",
        "        x = self.conv2(x)\n",
        "        x = x.view(x.size(0), -1)\n",
        "        return self.out(x)\n",
        "\n",
        "cnn = CNN()\n",
        "print(cnn)"
      ],
      "metadata": {
        "colab": {
          "base_uri": "https://localhost:8080/"
        },
        "id": "_4p690gZDg1q",
        "outputId": "52972853-c753-4077-b006-95cd2eeeeceb"
      },
      "execution_count": null,
      "outputs": [
        {
          "output_type": "stream",
          "name": "stdout",
          "text": [
            "CNN(\n",
            "  (conv1): Sequential(\n",
            "    (0): Conv2d(1, 16, kernel_size=(5, 5), stride=(1, 1), padding=(2, 2))\n",
            "    (1): ReLU()\n",
            "    (2): MaxPool2d(kernel_size=2, stride=2, padding=0, dilation=1, ceil_mode=False)\n",
            "  )\n",
            "  (conv2): Sequential(\n",
            "    (0): Conv2d(16, 32, kernel_size=(5, 5), stride=(1, 1), padding=(2, 2))\n",
            "    (1): ReLU()\n",
            "    (2): MaxPool2d(kernel_size=2, stride=2, padding=0, dilation=1, ceil_mode=False)\n",
            "  )\n",
            "  (out): Linear(in_features=1568, out_features=10, bias=True)\n",
            ")\n"
          ]
        }
      ]
    },
    {
      "cell_type": "code",
      "source": [
        "optimizer = torch.optim.Adam(cnn.parameters(), lr=LR)\n",
        "loss_func = nn.CrossEntropyLoss()\n",
        "\n",
        "for epoch in range(EPOCH):\n",
        "    for step, (b_x, b_y) in enumerate(train_loader):\n",
        "        output = cnn(b_x)[0]\n",
        "        loss = loss_func(output, b_y[0])\n",
        "        optimizer.zero_grad()\n",
        "        loss.backward()\n",
        "        optimizer.step()\n",
        "\n",
        "        if step % 50 == 0:\n",
        "            test_output = cnn(test_x)\n",
        "            pred_y = torch.max(test_output, 1)[1].data.numpy()\n",
        "            accuracy = float((pred_y == test_y.data.numpy()).astype(int).sum()) / float(test_y.size(0))\n",
        "            print('Epoch: ', epoch, '| train loss: %.4f' % loss.data.numpy(), '| test accuracy: %.2f' % accuracy)\n"
      ],
      "metadata": {
        "colab": {
          "base_uri": "https://localhost:8080/"
        },
        "id": "j_K70sf9DxMh",
        "outputId": "4a9903f6-73f9-457f-9ad8-1f7fc936d125"
      },
      "execution_count": null,
      "outputs": [
        {
          "output_type": "stream",
          "name": "stdout",
          "text": [
            "Epoch:  0 | train loss: 2.2515 | test accuracy: 0.09\n",
            "Epoch:  0 | train loss: 2.2957 | test accuracy: 0.09\n",
            "Epoch:  0 | train loss: 1.6676 | test accuracy: 0.42\n",
            "Epoch:  0 | train loss: 0.5221 | test accuracy: 0.50\n",
            "Epoch:  0 | train loss: 4.2695 | test accuracy: 0.64\n",
            "Epoch:  0 | train loss: 0.5873 | test accuracy: 0.66\n",
            "Epoch:  0 | train loss: 1.9073 | test accuracy: 0.68\n",
            "Epoch:  0 | train loss: 2.3103 | test accuracy: 0.70\n",
            "Epoch:  0 | train loss: 0.9738 | test accuracy: 0.75\n",
            "Epoch:  0 | train loss: 0.0045 | test accuracy: 0.84\n",
            "Epoch:  0 | train loss: 0.9623 | test accuracy: 0.83\n",
            "Epoch:  0 | train loss: 0.1453 | test accuracy: 0.83\n",
            "Epoch:  0 | train loss: 0.5448 | test accuracy: 0.84\n",
            "Epoch:  0 | train loss: 0.0001 | test accuracy: 0.86\n",
            "Epoch:  0 | train loss: 0.0216 | test accuracy: 0.88\n",
            "Epoch:  0 | train loss: 0.8890 | test accuracy: 0.85\n",
            "Epoch:  0 | train loss: 0.0166 | test accuracy: 0.88\n",
            "Epoch:  0 | train loss: 0.0134 | test accuracy: 0.86\n",
            "Epoch:  0 | train loss: 0.2028 | test accuracy: 0.84\n",
            "Epoch:  0 | train loss: 0.0082 | test accuracy: 0.89\n",
            "Epoch:  0 | train loss: 0.0542 | test accuracy: 0.84\n",
            "Epoch:  0 | train loss: 0.0000 | test accuracy: 0.91\n",
            "Epoch:  0 | train loss: 0.0804 | test accuracy: 0.88\n",
            "Epoch:  0 | train loss: 0.0019 | test accuracy: 0.89\n"
          ]
        }
      ]
    },
    {
      "cell_type": "code",
      "source": [
        "test_output = cnn(test_x[:10])\n",
        "pred_y = torch.max(test_output, 1)[1].data.numpy()\n",
        "print(pred_y, 'prediction number')\n",
        "print(test_y[:10].numpy(), 'real number')"
      ],
      "metadata": {
        "colab": {
          "base_uri": "https://localhost:8080/"
        },
        "id": "g8OcF3hED-VX",
        "outputId": "b41d430c-8158-4097-fccb-d19e75c3bf1f"
      },
      "execution_count": null,
      "outputs": [
        {
          "output_type": "stream",
          "name": "stdout",
          "text": [
            "[7 2 1 0 4 1 4 9 5 9] prediction number\n",
            "[7 2 1 0 4 1 4 9 5 9] real number\n"
          ]
        }
      ]
    }
  ]
}